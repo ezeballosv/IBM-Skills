{
 "cells": [
  {
   "cell_type": "markdown",
   "id": "b38ac86b-311f-4124-abda-a8f369b80f70",
   "metadata": {},
   "source": [
    "# Data Science Tools and Ecosystem"
   ]
  },
  {
   "cell_type": "markdown",
   "id": "fc859757-1559-4440-b5cb-ce881bfbe561",
   "metadata": {},
   "source": [
    "In this notebook, Data Science Tools and Ecosystem are summarized.\n"
   ]
  },
  {
   "cell_type": "markdown",
   "id": "b67cbd23-5cc9-41a6-b79a-9cc67dbd4d10",
   "metadata": {},
   "source": [
    "**Objectives:**\n",
    "* List popular languages for Data Science\n",
    "* List libraries used by Data Scientists\n",
    "* List of Data Science Tools\n",
    "\n",
    "## Author\n",
    "Eduardo Zeballos"
   ]
  },
  {
   "cell_type": "markdown",
   "id": "12201d24-b09f-4d51-b2ff-50c04d699ed3",
   "metadata": {},
   "source": [
    "Some of the popular languages that Data Scientists use are:\n",
    "1. Phyton\n",
    "2. R\n",
    "3. Julia"
   ]
  },
  {
   "cell_type": "markdown",
   "id": "d389c90d-7299-4bac-8639-9ca8928c5e4b",
   "metadata": {},
   "source": [
    "Some of the commonly used libraries used by Data Scientists include:\n",
    "1. Pandas\n",
    "2. Matplotlib\n",
    "3. Scikit-learn"
   ]
  },
  {
   "cell_type": "markdown",
   "id": "0c72a9ee-6e91-4c00-acae-d4881837a868",
   "metadata": {},
   "source": [
    "|Data Science Tools|\n",
    "|--|\n",
    "|JupyterLab|\n",
    "|Watson Studio|\n",
    "|Google Colab|\n",
    "\n"
   ]
  },
  {
   "cell_type": "markdown",
   "id": "58213f0d-f195-4aca-90b5-2ac8e6d03808",
   "metadata": {},
   "source": [
    "### Below are a few examples of evaluating arithmetic expressions in Python.\r\n"
   ]
  },
  {
   "cell_type": "code",
   "execution_count": 1,
   "id": "3b46250e-c48e-4dc5-a0bf-6248f7662bc2",
   "metadata": {},
   "outputs": [
    {
     "data": {
      "text/plain": [
       "17"
      ]
     },
     "execution_count": 1,
     "metadata": {},
     "output_type": "execute_result"
    }
   ],
   "source": [
    "# This a simple arithmetic expression to mutiply then add integers\n",
    "(3*4)+5"
   ]
  },
  {
   "cell_type": "code",
   "execution_count": 2,
   "id": "c7cdfd21-151e-4fa6-8ccd-9b686c4e2415",
   "metadata": {},
   "outputs": [
    {
     "data": {
      "text/plain": [
       "3.3333333333333335"
      ]
     },
     "execution_count": 2,
     "metadata": {},
     "output_type": "execute_result"
    }
   ],
   "source": [
    "# This will convert 200 minutes to hours by diving by 60\n",
    "200 / 60"
   ]
  },
  {
   "cell_type": "markdown",
   "id": "6d94e9df-795c-4669-9c2b-ed08eee9bca4",
   "metadata": {},
   "source": []
  }
 ],
 "metadata": {
  "kernelspec": {
   "display_name": "Python 3 (ipykernel)",
   "language": "python",
   "name": "python3"
  },
  "language_info": {
   "codemirror_mode": {
    "name": "ipython",
    "version": 3
   },
   "file_extension": ".py",
   "mimetype": "text/x-python",
   "name": "python",
   "nbconvert_exporter": "python",
   "pygments_lexer": "ipython3",
   "version": "3.8.18"
  }
 },
 "nbformat": 4,
 "nbformat_minor": 5
}
